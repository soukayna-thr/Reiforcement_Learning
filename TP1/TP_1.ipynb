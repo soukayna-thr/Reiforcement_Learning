{
 "cells": [
  {
   "cell_type": "markdown",
   "id": "e3b656fb-b33c-4c41-bd28-6554c95e264c",
   "metadata": {},
   "source": [
    "**Machine Learning II - TP1**"
   ]
  },
  {
   "cell_type": "code",
   "execution_count": 1,
   "id": "355698ad-7865-41d1-b17d-5a8f4033b7a5",
   "metadata": {},
   "outputs": [
    {
     "name": "stdout",
     "output_type": "stream",
     "text": [
      "Requirement already satisfied: gymnasium in c:\\users\\pc\\anaconda3\\lib\\site-packages (1.1.0)\n",
      "Collecting gymnasium\n",
      "  Downloading gymnasium-1.1.1-py3-none-any.whl.metadata (9.4 kB)\n",
      "Requirement already satisfied: pygame in c:\\users\\pc\\anaconda3\\lib\\site-packages (2.6.1)\n",
      "Requirement already satisfied: numpy in c:\\users\\pc\\anaconda3\\lib\\site-packages (1.26.4)\n",
      "Collecting numpy\n",
      "  Using cached numpy-2.2.3-cp312-cp312-win_amd64.whl.metadata (60 kB)\n",
      "Requirement already satisfied: cloudpickle>=1.2.0 in c:\\users\\pc\\anaconda3\\lib\\site-packages (from gymnasium) (2.2.1)\n",
      "Requirement already satisfied: typing-extensions>=4.3.0 in c:\\users\\pc\\anaconda3\\lib\\site-packages (from gymnasium) (4.11.0)\n",
      "Requirement already satisfied: farama-notifications>=0.0.1 in c:\\users\\pc\\anaconda3\\lib\\site-packages (from gymnasium) (0.0.4)\n",
      "Downloading gymnasium-1.1.1-py3-none-any.whl (965 kB)\n",
      "   ---------------------------------------- 0.0/965.4 kB ? eta -:--:--\n",
      "   ---------------------------------------- 10.2/965.4 kB ? eta -:--:--\n",
      "    -------------------------------------- 20.5/965.4 kB 162.5 kB/s eta 0:00:06\n",
      "   - ------------------------------------- 30.7/965.4 kB 186.2 kB/s eta 0:00:06\n",
      "   - ------------------------------------- 41.0/965.4 kB 217.9 kB/s eta 0:00:05\n",
      "   -- ------------------------------------ 71.7/965.4 kB 326.8 kB/s eta 0:00:03\n",
      "   ---- --------------------------------- 122.9/965.4 kB 479.3 kB/s eta 0:00:02\n",
      "   -------- ----------------------------- 225.3/965.4 kB 724.0 kB/s eta 0:00:02\n",
      "   ---------- --------------------------- 276.5/965.4 kB 809.2 kB/s eta 0:00:01\n",
      "   -------------- ----------------------- 368.6/965.4 kB 916.6 kB/s eta 0:00:01\n",
      "   --------------- ---------------------- 399.4/965.4 kB 956.1 kB/s eta 0:00:01\n",
      "   --------------- ---------------------- 399.4/965.4 kB 956.1 kB/s eta 0:00:01\n",
      "   ---------------- --------------------- 419.8/965.4 kB 793.8 kB/s eta 0:00:01\n",
      "   ------------------- ------------------ 501.8/965.4 kB 848.9 kB/s eta 0:00:01\n",
      "   ------------------------- ------------ 645.1/965.4 kB 990.5 kB/s eta 0:00:01\n",
      "   -------------------------------- ------- 778.2/965.4 kB 1.1 MB/s eta 0:00:01\n",
      "   ------------------------------------ --- 890.9/965.4 kB 1.2 MB/s eta 0:00:01\n",
      "   ------------------------------------ --- 890.9/965.4 kB 1.2 MB/s eta 0:00:01\n",
      "   ------------------------------------ --- 890.9/965.4 kB 1.2 MB/s eta 0:00:01\n",
      "   ------------------------------------ --- 890.9/965.4 kB 1.2 MB/s eta 0:00:01\n",
      "   ----------------------------------- -- 911.4/965.4 kB 977.4 kB/s eta 0:00:01\n",
      "   -------------------------------------- 965.4/965.4 kB 985.7 kB/s eta 0:00:00\n",
      "Using cached numpy-2.2.3-cp312-cp312-win_amd64.whl (12.6 MB)\n",
      "Installing collected packages: numpy, gymnasium\n",
      "  Attempting uninstall: numpy\n",
      "    Found existing installation: numpy 1.26.4\n",
      "    Uninstalling numpy-1.26.4:\n",
      "      Successfully uninstalled numpy-1.26.4\n",
      "  Attempting uninstall: gymnasium\n",
      "    Found existing installation: gymnasium 1.1.0\n",
      "    Uninstalling gymnasium-1.1.0:\n",
      "      Successfully uninstalled gymnasium-1.1.0\n",
      "Successfully installed gymnasium-1.1.1 numpy-2.2.3\n",
      "Note: you may need to restart the kernel to use updated packages.\n"
     ]
    },
    {
     "name": "stderr",
     "output_type": "stream",
     "text": [
      "  WARNING: Failed to remove contents in a temporary directory 'C:\\Users\\PC\\anaconda3\\Lib\\site-packages\\~-mpy.libs'.\n",
      "  You can safely remove it manually.\n",
      "  WARNING: Failed to remove contents in a temporary directory 'C:\\Users\\PC\\anaconda3\\Lib\\site-packages\\~~mpy'.\n",
      "  You can safely remove it manually.\n",
      "ERROR: pip's dependency resolver does not currently take into account all the packages that are installed. This behaviour is the source of the following dependency conflicts.\n",
      "contourpy 1.2.0 requires numpy<2.0,>=1.20, but you have numpy 2.2.3 which is incompatible.\n",
      "numba 0.59.1 requires numpy<1.27,>=1.22, but you have numpy 2.2.3 which is incompatible.\n",
      "pywavelets 1.5.0 requires numpy<2.0,>=1.22.4, but you have numpy 2.2.3 which is incompatible.\n",
      "streamlit 1.32.0 requires numpy<2,>=1.19.3, but you have numpy 2.2.3 which is incompatible.\n",
      "tensorflow-intel 2.18.0 requires numpy<2.1.0,>=1.26.0, but you have numpy 2.2.3 which is incompatible.\n"
     ]
    }
   ],
   "source": [
    "pip install --upgrade gymnasium pygame numpy"
   ]
  },
  {
   "cell_type": "code",
   "execution_count": 7,
   "id": "48b4e2ef-9730-46be-8ebd-cbfa9ae34622",
   "metadata": {},
   "outputs": [],
   "source": [
    "import gymnasium as gym\n",
    "env = gym.make(\"CartPole-v1\", render_mode=\"human\")"
   ]
  },
  {
   "cell_type": "code",
   "execution_count": 9,
   "id": "9fa7a879-c404-4c5d-99f7-2fafa8f09a8f",
   "metadata": {},
   "outputs": [
    {
     "data": {
      "text/plain": [
       "(array([ 0.01341057,  0.04452501, -0.03960107, -0.03440222], dtype=float32),\n",
       " {})"
      ]
     },
     "execution_count": 9,
     "metadata": {},
     "output_type": "execute_result"
    }
   ],
   "source": [
    "env.reset()"
   ]
  },
  {
   "cell_type": "markdown",
   "id": "4d1c01c6-a6f0-4e0e-b8df-e2da1e2d06a0",
   "metadata": {},
   "source": [
    "Exercice 1 : Découverte et exploration d'un environnement Gym\n",
    "---"
   ]
  },
  {
   "cell_type": "code",
   "execution_count": 11,
   "id": "51b2d844-0ffb-485d-a76b-76f27b3a718d",
   "metadata": {},
   "outputs": [
    {
     "name": "stdout",
     "output_type": "stream",
     "text": [
      "Espace d'actions : Discrete(2)\n",
      "Espace d'observations : Box([-4.8               -inf -0.41887903        -inf], [4.8               inf 0.41887903        inf], (4,), float32)\n"
     ]
    }
   ],
   "source": [
    "print(f\"Espace d'actions : {env.action_space}\")\n",
    "print(f\"Espace d'observations : {env.observation_space}\")"
   ]
  },
  {
   "cell_type": "code",
   "execution_count": 13,
   "id": "be42c7b7-a0fd-438c-8e31-9ada501c2875",
   "metadata": {},
   "outputs": [
    {
     "name": "stdout",
     "output_type": "stream",
     "text": [
      "Action : 0, Observation : [ 0.01430107 -0.15000734 -0.04028912  0.24552785], Reward : 1.0\n",
      "Action : 0, Observation : [ 0.01130092 -0.3445314  -0.03537856  0.52523535], Reward : 1.0\n",
      "Action : 1, Observation : [ 0.0044103  -0.1489299  -0.02487385  0.22161758], Reward : 1.0\n",
      "Action : 0, Observation : [ 0.0014317  -0.34368765 -0.0204415   0.5063517 ], Reward : 1.0\n",
      "Action : 1, Observation : [-0.00544205 -0.1482837  -0.01031447  0.20729762], Reward : 1.0\n",
      "Action : 0, Observation : [-0.00840773 -0.34325665 -0.00616851  0.49670908], Reward : 1.0\n",
      "Action : 1, Observation : [-0.01527286 -0.14804827  0.00376567  0.20208855], Reward : 1.0\n",
      "Action : 0, Observation : [-0.01823383 -0.34322387  0.00780744  0.495957  ], Reward : 1.0\n",
      "Action : 1, Observation : [-0.02509831 -0.14821288  0.01772658  0.20574477], Reward : 1.0\n",
      "Action : 0, Observation : [-0.02806256 -0.3435838   0.02184147  0.50396645], Reward : 1.0\n",
      "Action : 1, Observation : [-0.03493424 -0.14877635  0.0319208   0.21824586], Reward : 1.0\n",
      "Action : 0, Observation : [-0.03790976 -0.34433973  0.03628572  0.5208246 ], Reward : 1.0\n",
      "Action : 0, Observation : [-0.04479656 -0.5399532   0.04670221  0.8247173 ], Reward : 1.0\n",
      "Action : 1, Observation : [-0.05559563 -0.34550005  0.06319656  0.5470811 ], Reward : 1.0\n",
      "Action : 1, Observation : [-0.06250563 -0.15132026  0.07413818  0.27496028], Reward : 1.0\n",
      "Action : 1, Observation : [-0.06553203  0.04266992  0.07963739  0.006551  ], Reward : 1.0\n",
      "Action : 1, Observation : [-0.06467863  0.23656479  0.0797684  -0.25998086], Reward : 1.0\n",
      "Action : 1, Observation : [-0.05994733  0.43046278  0.07456879 -0.5264759 ], Reward : 1.0\n",
      "Action : 0, Observation : [-0.05133808  0.23437513  0.06403927 -0.21125895], Reward : 1.0\n",
      "Action : 0, Observation : [-0.04665058  0.03839878  0.05981409  0.10091768], Reward : 1.0\n",
      "Action : 1, Observation : [-0.0458826   0.23261477  0.06183245 -0.17231046], Reward : 1.0\n",
      "Action : 0, Observation : [-0.04123031  0.03666484  0.05838624  0.1392199 ], Reward : 1.0\n",
      "Action : 1, Observation : [-0.04049701  0.23090406  0.06117063 -0.13448666], Reward : 1.0\n",
      "Action : 1, Observation : [-0.03587893  0.4250989   0.0584809  -0.40726113], Reward : 1.0\n",
      "Action : 1, Observation : [-0.02737695  0.61934495  0.05033568 -0.68094856], Reward : 1.0\n",
      "Action : 1, Observation : [-0.01499005  0.813733    0.03671671 -0.95736885], Reward : 1.0\n",
      "Action : 1, Observation : [ 0.00128461  1.0083425   0.01756933 -1.238294  ], Reward : 1.0\n",
      "Action : 1, Observation : [ 0.02145146  1.2032344  -0.00719655 -1.5254217 ], Reward : 1.0\n",
      "Action : 0, Observation : [ 0.04551614  1.0082     -0.03770499 -1.2349936 ], Reward : 1.0\n",
      "Action : 1, Observation : [ 0.06568015  1.2037858  -0.06240486 -1.5392463 ], Reward : 1.0\n",
      "Action : 1, Observation : [ 0.08975586  1.3996005  -0.09318978 -1.8507317 ], Reward : 1.0\n",
      "Action : 0, Observation : [ 0.11774787  1.2056193  -0.13020441 -1.5883806 ], Reward : 1.0\n",
      "Action : 0, Observation : [ 0.14186026  1.0122626  -0.16197203 -1.3389726 ], Reward : 1.0\n",
      "Action : 0, Observation : [ 0.16210552  0.81950784 -0.18875147 -1.1010367 ], Reward : 1.0\n",
      "Action : 0, Observation : [ 0.17849566  0.6273022  -0.21077222 -0.87301284], Reward : 1.0\n",
      "Action : 0, Observation : [-0.02975923 -0.17061451  0.02366161  0.34121844], Reward : 1.0\n",
      "Action : 0, Observation : [-0.03317152 -0.366065    0.03048597  0.64126796], Reward : 1.0\n",
      "Action : 1, Observation : [-0.04049283 -0.17138098  0.04331134  0.35833913], Reward : 1.0\n",
      "Action : 1, Observation : [-0.04392044  0.02309934  0.05047812  0.07962176], Reward : 1.0\n",
      "Action : 0, Observation : [-0.04345846 -0.17270853  0.05207055  0.38779372], Reward : 1.0\n",
      "Action : 1, Observation : [-0.04691263  0.02163713  0.05982643  0.11197218], Reward : 1.0\n",
      "Action : 1, Observation : [-0.04647988  0.21585305  0.06206587 -0.16125204], Reward : 1.0\n",
      "Action : 1, Observation : [-0.04216282  0.4100341   0.05884083 -0.4337271 ], Reward : 1.0\n",
      "Action : 0, Observation : [-0.03396214  0.21413058  0.05016629 -0.12309117], Reward : 1.0\n",
      "Action : 1, Observation : [-0.02967953  0.40849927  0.04770446 -0.3995347 ], Reward : 1.0\n",
      "Action : 0, Observation : [-0.02150954  0.2127342   0.03971377 -0.09220137], Reward : 1.0\n",
      "Action : 1, Observation : [-0.01725486  0.4072651   0.03786974 -0.37209484], Reward : 1.0\n",
      "Action : 1, Observation : [-0.00910956  0.6018292   0.03042785 -0.65260065], Reward : 1.0\n",
      "Action : 1, Observation : [ 0.00292702  0.79651445  0.01737583 -0.935549  ], Reward : 1.0\n",
      "Action : 1, Observation : [ 0.01885731  0.9913978  -0.00133515 -1.2227217 ], Reward : 1.0\n",
      "Action : 0, Observation : [ 0.03868527  0.7962931  -0.02578958 -0.93045735], Reward : 1.0\n",
      "Action : 0, Observation : [ 0.05461113  0.6015285  -0.04439873 -0.645989  ], Reward : 1.0\n",
      "Action : 0, Observation : [ 0.0666417   0.40705243 -0.05731851 -0.36761126], Reward : 1.0\n",
      "Action : 1, Observation : [ 0.07478275  0.60294    -0.06467073 -0.6778025 ], Reward : 1.0\n",
      "Action : 0, Observation : [ 0.08684155  0.40877333 -0.07822678 -0.40616125], Reward : 1.0\n",
      "Action : 0, Observation : [ 0.09501702  0.21484277 -0.08635001 -0.13913026], Reward : 1.0\n",
      "Action : 0, Observation : [ 0.09931387  0.02105689 -0.08913261  0.12511016], Reward : 1.0\n",
      "Action : 1, Observation : [ 0.09973501  0.21733521 -0.08663041 -0.19430889], Reward : 1.0\n",
      "Action : 1, Observation : [ 0.10408171  0.41358268 -0.09051659 -0.51301366], Reward : 1.0\n",
      "Action : 0, Observation : [ 0.11235337  0.21984442 -0.10077687 -0.2501715 ], Reward : 1.0\n",
      "Action : 1, Observation : [ 0.11675026  0.4162503  -0.1057803  -0.5728638 ], Reward : 1.0\n",
      "Action : 0, Observation : [ 0.12507527  0.22275811 -0.11723757 -0.31528932], Reward : 1.0\n",
      "Action : 1, Observation : [ 0.12953041  0.41933793 -0.12354336 -0.6425238 ], Reward : 1.0\n",
      "Action : 1, Observation : [ 0.13791718  0.6159456  -0.13639383 -0.971417  ], Reward : 1.0\n",
      "Action : 0, Observation : [ 0.15023609  0.42289156 -0.15582217 -0.72450095], Reward : 1.0\n",
      "Action : 0, Observation : [ 0.15869392  0.23022836 -0.1703122  -0.4846341 ], Reward : 1.0\n",
      "Action : 1, Observation : [ 0.16329849  0.42729282 -0.18000488 -0.82578415], Reward : 1.0\n",
      "Action : 1, Observation : [ 0.17184435  0.6243596  -0.19652055 -1.1692443 ], Reward : 1.0\n",
      "Action : 1, Observation : [ 0.18433154  0.82141775 -0.21990545 -1.516548  ], Reward : 1.0\n",
      "Action : 1, Observation : [ 0.01534316  0.23485547  0.00561079 -0.30406082], Reward : 1.0\n",
      "Action : 1, Observation : [ 2.0040270e-02  4.2989701e-01 -4.7042684e-04 -5.9496897e-01], Reward : 1.0\n",
      "Action : 1, Observation : [ 0.02863821  0.6250256  -0.01236981 -0.88780004], Reward : 1.0\n",
      "Action : 1, Observation : [ 0.04113872  0.82031316 -0.03012581 -1.1843457 ], Reward : 1.0\n",
      "Action : 0, Observation : [ 0.05754498  0.62559474 -0.05381272 -0.9012562 ], Reward : 1.0\n",
      "Action : 1, Observation : [ 0.07005688  0.82140285 -0.07183784 -1.2103566 ], Reward : 1.0\n",
      "Action : 1, Observation : [ 0.08648494  1.0173751  -0.09604498 -1.5246589 ], Reward : 1.0\n",
      "Action : 1, Observation : [ 0.10683244  1.2135165  -0.12653816 -1.845709  ], Reward : 1.0\n",
      "Action : 0, Observation : [ 0.13110277  1.019996   -0.16345233 -1.5948522 ], Reward : 1.0\n",
      "Action : 1, Observation : [ 0.15150268  1.2166358  -0.19534938 -1.9337217 ], Reward : 1.0\n",
      "Action : 1, Observation : [ 0.1758354   1.4132385  -0.23402381 -2.2800846 ], Reward : 1.0\n",
      "Action : 1, Observation : [ 0.01818982  0.15924354  0.02025937 -0.28796965], Reward : 1.0\n",
      "Action : 1, Observation : [ 0.02137469  0.3540708   0.01449998 -0.5741947 ], Reward : 1.0\n",
      "Action : 0, Observation : [ 0.0284561   0.1587486   0.00301609 -0.2769794 ], Reward : 1.0\n",
      "Action : 1, Observation : [ 0.03163108  0.3538274  -0.0025235  -0.5687095 ], Reward : 1.0\n",
      "Action : 0, Observation : [ 0.03870763  0.15874092 -0.01389769 -0.27682266], Reward : 1.0\n",
      "Action : 1, Observation : [ 0.04188244  0.35405836 -0.01943414 -0.5738563 ], Reward : 1.0\n",
      "Action : 0, Observation : [ 0.04896361  0.1592142  -0.03091127 -0.28735852], Reward : 1.0\n",
      "Action : 1, Observation : [ 0.0521479   0.35476303 -0.03665844 -0.5896281 ], Reward : 1.0\n",
      "Action : 0, Observation : [ 0.05924315  0.16017303 -0.048451   -0.3087144 ], Reward : 1.0\n",
      "Action : 1, Observation : [ 0.06244662  0.35595065 -0.05462529 -0.6162752 ], Reward : 1.0\n",
      "Action : 0, Observation : [ 0.06956563  0.1616327  -0.0669508  -0.3412849 ], Reward : 1.0\n",
      "Action : 1, Observation : [ 0.07279828  0.35764018 -0.07377649 -0.65430623], Reward : 1.0\n",
      "Action : 0, Observation : [ 0.07995109  0.16361879 -0.08686262 -0.38573647], Reward : 1.0\n",
      "Action : 1, Observation : [ 0.08322346  0.35985956 -0.09457735 -0.70449334], Reward : 1.0\n",
      "Action : 1, Observation : [ 0.09042066  0.556156   -0.10866722 -1.0253863 ], Reward : 1.0\n",
      "Action : 0, Observation : [ 0.10154377  0.36263555 -0.12917495 -0.7687033 ], Reward : 1.0\n",
      "Action : 1, Observation : [ 0.10879648  0.5592765  -0.14454901 -1.0990791 ], Reward : 1.0\n",
      "Action : 1, Observation : [ 0.11998201  0.75597435 -0.1665306  -1.4333984 ], Reward : 1.0\n",
      "Action : 1, Observation : [ 0.1351015   0.95271283 -0.19519855 -1.7731576 ], Reward : 1.0\n",
      "Action : 0, Observation : [ 0.15415576  0.7602546  -0.2306617  -1.5469773 ], Reward : 1.0\n"
     ]
    }
   ],
   "source": [
    "for _ in range(100):\n",
    "    action = env.action_space.sample()\n",
    "    observation, reward, done, _, _ = env.step(action)\n",
    "\n",
    "    print(f\"Action : {action}, Observation : {observation}, Reward : {reward}\")\n",
    "\n",
    "    if done:\n",
    "        env.reset()\n",
    "\n",
    "env.close()"
   ]
  },
  {
   "cell_type": "markdown",
   "id": "8f603f5a-1a4d-46d6-b2cd-6d485fe74d99",
   "metadata": {},
   "source": [
    "Exercice 2 : Manipulation des observations et récompenses\n",
    "---"
   ]
  },
  {
   "cell_type": "code",
   "execution_count": 22,
   "id": "a1a179b0-003f-48bc-a67d-f59196ac4199",
   "metadata": {},
   "outputs": [],
   "source": [
    "env = gym.make(\"CartPole-v1\")\n",
    "observation = env.reset()"
   ]
  },
  {
   "cell_type": "code",
   "execution_count": 24,
   "id": "b84ea53b-bdcd-4471-8bd5-a05950bb82a7",
   "metadata": {},
   "outputs": [],
   "source": [
    "action = env.action_space.sample()\n",
    "observation, reward, done, _, _ = env.step(action)"
   ]
  },
  {
   "cell_type": "code",
   "execution_count": 26,
   "id": "9064b754-71e3-4a02-b4e4-c87deda87659",
   "metadata": {},
   "outputs": [
    {
     "name": "stdout",
     "output_type": "stream",
     "text": [
      "  Action : 0\n",
      "  Observation : [-0.02666578 -0.19238849  0.02600905  0.33215925]\n",
      "  Reward : 1.0\n",
      "  Done ? False\n"
     ]
    }
   ],
   "source": [
    "print(\"  Action :\", action)\n",
    "print(\"  Observation :\", observation)\n",
    "print(\"  Reward :\", reward)\n",
    "print(\"  Done ?\", done)\n",
    "if done:\n",
    "    env.reset()\n",
    "\n",
    "env.close()"
   ]
  },
  {
   "cell_type": "markdown",
   "id": "ba1a4b08-a1f9-4ac1-8b30-409c2b8c0cc4",
   "metadata": {},
   "source": [
    "Exercice 3 : Controle manuel de l'agent\n",
    "---"
   ]
  },
  {
   "cell_type": "code",
   "execution_count": 29,
   "id": "6e6da5c7-5e38-4310-b252-51af12c5444f",
   "metadata": {},
   "outputs": [],
   "source": [
    "total_steps = 0"
   ]
  },
  {
   "cell_type": "code",
   "execution_count": 31,
   "id": "90e303b7-520c-4081-bbd0-218b0afa3543",
   "metadata": {},
   "outputs": [
    {
     "name": "stdin",
     "output_type": "stream",
     "text": [
      "Choisissez une action (0 ou 1) :  1\n"
     ]
    },
    {
     "name": "stdout",
     "output_type": "stream",
     "text": [
      "Observation : [-0.03051355  0.00235378  0.03265224  0.04779045]\n"
     ]
    },
    {
     "name": "stdin",
     "output_type": "stream",
     "text": [
      "Choisissez une action (0 ou 1) :  0\n"
     ]
    },
    {
     "name": "stdout",
     "output_type": "stream",
     "text": [
      "Observation : [-0.03046648 -0.1932208   0.03360805  0.35059398]\n"
     ]
    },
    {
     "name": "stdin",
     "output_type": "stream",
     "text": [
      "Choisissez une action (0 ou 1) :  1\n"
     ]
    },
    {
     "name": "stdout",
     "output_type": "stream",
     "text": [
      "Observation : [-0.03433089  0.00140748  0.04061992  0.06869534]\n"
     ]
    },
    {
     "name": "stdin",
     "output_type": "stream",
     "text": [
      "Choisissez une action (0 ou 1) :  1\n"
     ]
    },
    {
     "name": "stdout",
     "output_type": "stream",
     "text": [
      "Observation : [-0.03430275  0.19592424  0.04199383 -0.21090014]\n"
     ]
    },
    {
     "name": "stdin",
     "output_type": "stream",
     "text": [
      "Choisissez une action (0 ou 1) :  1\n"
     ]
    },
    {
     "name": "stdout",
     "output_type": "stream",
     "text": [
      "Observation : [-0.03038426  0.3904214   0.03777583 -0.4900461 ]\n"
     ]
    },
    {
     "name": "stdin",
     "output_type": "stream",
     "text": [
      "Choisissez une action (0 ou 1) :  1\n"
     ]
    },
    {
     "name": "stdout",
     "output_type": "stream",
     "text": [
      "Observation : [-0.02257583  0.5849906   0.02797491 -0.7705883 ]\n"
     ]
    },
    {
     "name": "stdin",
     "output_type": "stream",
     "text": [
      "Choisissez une action (0 ou 1) :  1\n"
     ]
    },
    {
     "name": "stdout",
     "output_type": "stream",
     "text": [
      "Observation : [-0.01087602  0.7797167   0.01256314 -1.0543395 ]\n"
     ]
    },
    {
     "name": "stdin",
     "output_type": "stream",
     "text": [
      "Choisissez une action (0 ou 1) :  1\n"
     ]
    },
    {
     "name": "stdout",
     "output_type": "stream",
     "text": [
      "Observation : [ 0.00471831  0.9746698  -0.00852365 -1.3430527 ]\n"
     ]
    },
    {
     "name": "stdin",
     "output_type": "stream",
     "text": [
      "Choisissez une action (0 ou 1) :  0\n"
     ]
    },
    {
     "name": "stdout",
     "output_type": "stream",
     "text": [
      "Observation : [ 0.02421171  0.7796561  -0.0353847  -1.0530487 ]\n"
     ]
    },
    {
     "name": "stdin",
     "output_type": "stream",
     "text": [
      "Choisissez une action (0 ou 1) :  1\n"
     ]
    },
    {
     "name": "stdout",
     "output_type": "stream",
     "text": [
      "Observation : [ 0.03980483  0.97522897 -0.05644568 -1.3566252 ]\n"
     ]
    },
    {
     "name": "stdin",
     "output_type": "stream",
     "text": [
      "Choisissez une action (0 ou 1) :  0\n"
     ]
    },
    {
     "name": "stdout",
     "output_type": "stream",
     "text": [
      "Observation : [ 0.05930941  0.78085876 -0.08357818 -1.0821205 ]\n"
     ]
    },
    {
     "name": "stdin",
     "output_type": "stream",
     "text": [
      "Choisissez une action (0 ou 1) :  0\n"
     ]
    },
    {
     "name": "stdout",
     "output_type": "stream",
     "text": [
      "Observation : [ 0.07492658  0.5869334  -0.10522059 -0.81679124]\n"
     ]
    },
    {
     "name": "stdin",
     "output_type": "stream",
     "text": [
      "Choisissez une action (0 ou 1) :  0\n"
     ]
    },
    {
     "name": "stdout",
     "output_type": "stream",
     "text": [
      "Observation : [ 0.08666526  0.39339718 -0.12155642 -0.5589703 ]\n"
     ]
    },
    {
     "name": "stdin",
     "output_type": "stream",
     "text": [
      "Choisissez une action (0 ou 1) :  0\n"
     ]
    },
    {
     "name": "stdout",
     "output_type": "stream",
     "text": [
      "Observation : [ 0.0945332   0.20017233 -0.13273582 -0.30692133]\n"
     ]
    },
    {
     "name": "stdin",
     "output_type": "stream",
     "text": [
      "Choisissez une action (0 ou 1) :  1\n"
     ]
    },
    {
     "name": "stdout",
     "output_type": "stream",
     "text": [
      "Observation : [ 0.09853665  0.39691132 -0.13887425 -0.63834375]\n"
     ]
    },
    {
     "name": "stdin",
     "output_type": "stream",
     "text": [
      "Choisissez une action (0 ou 1) :  1\n"
     ]
    },
    {
     "name": "stdout",
     "output_type": "stream",
     "text": [
      "Observation : [ 0.10647487  0.5936685  -0.15164113 -0.971336  ]\n"
     ]
    },
    {
     "name": "stdin",
     "output_type": "stream",
     "text": [
      "Choisissez une action (0 ou 1) :  1\n"
     ]
    },
    {
     "name": "stdout",
     "output_type": "stream",
     "text": [
      "Observation : [ 0.11834824  0.7904644  -0.17106785 -1.3075541 ]\n"
     ]
    },
    {
     "name": "stdin",
     "output_type": "stream",
     "text": [
      "Choisissez une action (0 ou 1) :  1\n"
     ]
    },
    {
     "name": "stdout",
     "output_type": "stream",
     "text": [
      "Observation : [ 0.13415752  0.9872908  -0.19721892 -1.6485333 ]\n"
     ]
    },
    {
     "name": "stdin",
     "output_type": "stream",
     "text": [
      "Choisissez une action (0 ou 1) :  0\n"
     ]
    },
    {
     "name": "stdout",
     "output_type": "stream",
     "text": [
      "Observation : [ 0.15390335  0.7949453  -0.23018959 -1.4232152 ]\n",
      "Épisode terminé après 19 étapes.\n"
     ]
    }
   ],
   "source": [
    "while True:\n",
    "    action = int(input(\"Choisissez une action (0 ou 1) : \"))\n",
    "    observation, reward, done, _, _ = env.step(action)\n",
    "    total_steps += 1\n",
    "    print(\"Observation :\", observation)\n",
    "    if done:\n",
    "        print(\"Épisode terminé après\", total_steps, \"étapes.\")\n",
    "        break\n",
    "\n",
    "env.close()"
   ]
  },
  {
   "cell_type": "markdown",
   "id": "aff6a694-dfb4-4657-b891-09072f7d970d",
   "metadata": {},
   "source": [
    "Exercie 4 : Evaluation des performances d'une politique aléatoire\n",
    "---"
   ]
  },
  {
   "cell_type": "code",
   "execution_count": 35,
   "id": "c75a4360-4656-44ff-88ee-356063ac0a3e",
   "metadata": {},
   "outputs": [],
   "source": [
    "num_episodes = 10\n",
    "total_steps = 0"
   ]
  },
  {
   "cell_type": "code",
   "execution_count": 37,
   "id": "73f968fc-dcfd-467e-93ab-209fb03783bc",
   "metadata": {},
   "outputs": [
    {
     "name": "stdout",
     "output_type": "stream",
     "text": [
      "Épisode 1 terminé après 24 étapes.\n",
      "Épisode 2 terminé après 25 étapes.\n",
      "Épisode 3 terminé après 41 étapes.\n",
      "Épisode 4 terminé après 13 étapes.\n",
      "Épisode 5 terminé après 33 étapes.\n",
      "Épisode 6 terminé après 25 étapes.\n",
      "Épisode 7 terminé après 57 étapes.\n",
      "Épisode 8 terminé après 10 étapes.\n",
      "Épisode 9 terminé après 18 étapes.\n",
      "Épisode 10 terminé après 22 étapes.\n"
     ]
    }
   ],
   "source": [
    "for episode in range(num_episodes):\n",
    "    observation = env.reset()\n",
    "    done = False\n",
    "    steps = 0\n",
    "\n",
    "    while not done:\n",
    "        action = env.action_space.sample()\n",
    "        observation, reward, done, _, _ = env.step(action)\n",
    "        steps += 1\n",
    "\n",
    "    total_steps += steps\n",
    "    print(f\"Épisode {episode + 1} terminé après {steps} étapes.\")\n"
   ]
  },
  {
   "cell_type": "code",
   "execution_count": 39,
   "id": "eb7f80bf-6422-4dee-9ee4-f50511e23551",
   "metadata": {},
   "outputs": [
    {
     "name": "stdout",
     "output_type": "stream",
     "text": [
      "Durée moyenne des épisodes : 26.8 étapes.\n"
     ]
    }
   ],
   "source": [
    "average_steps = total_steps / num_episodes\n",
    "print(f\"Durée moyenne des épisodes : {average_steps} étapes.\")\n",
    "\n",
    "env.close()"
   ]
  },
  {
   "cell_type": "code",
   "execution_count": null,
   "id": "12208e81-8d9a-4622-98e7-6f2652a4ecde",
   "metadata": {},
   "outputs": [],
   "source": []
  }
 ],
 "metadata": {
  "kernelspec": {
   "display_name": "Python 3 (ipykernel)",
   "language": "python",
   "name": "python3"
  },
  "language_info": {
   "codemirror_mode": {
    "name": "ipython",
    "version": 3
   },
   "file_extension": ".py",
   "mimetype": "text/x-python",
   "name": "python",
   "nbconvert_exporter": "python",
   "pygments_lexer": "ipython3",
   "version": "3.12.4"
  }
 },
 "nbformat": 4,
 "nbformat_minor": 5
}
