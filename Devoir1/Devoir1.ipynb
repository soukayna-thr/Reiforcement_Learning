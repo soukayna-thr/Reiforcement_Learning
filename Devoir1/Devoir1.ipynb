{
 "cells": [
  {
   "cell_type": "markdown",
   "id": "96e55532-654b-4b5c-b463-9c0d59f239d8",
   "metadata": {},
   "source": [
    "**Devoir : Implémentation d’un Agent d’Apprentissage par Renforcement**"
   ]
  },
  {
   "cell_type": "markdown",
   "id": "177d97df-14d5-4d12-9724-46893cf254c8",
   "metadata": {},
   "source": [
    " *Objectif :* Dans cet exercice, nous allons programmer un agent intelligent pour trouver un trésor dans une grille tout en évitant\n",
    " les pièges. \n",
    " \n",
    " *RègLes du Jeu :*\n",
    " \n",
    " ⚬ L’agent commence en haut à gauche de la grille (case (0,0)).\n",
    " \n",
    " ⚬ Il peut se déplacer : HAUT, BAS, GAUCHE, DROITE.\n",
    " \n",
    " ⚬ Chaque déplacement a un coût de -1 (pour encourager le cheminle plus court).\n",
    " \n",
    " ⚬ S’il atteint un piège, il perd immédiatement (-10 points).\n",
    " \n",
    " ⚬ S’il atteint le trésor, il gagne la partie (+10 points).\n",
    " \n",
    " ⚬ L’agent doit apprendre par lui-même en jouant plusieurs parties."
   ]
  },
  {
   "cell_type": "code",
   "execution_count": 71,
   "id": "bdea1440-aee7-4860-b620-aa3bb1b3ee4f",
   "metadata": {},
   "outputs": [],
   "source": [
    "import random"
   ]
  },
  {
   "cell_type": "code",
   "execution_count": 73,
   "id": "c8edd39d-2bf3-4d68-9631-a75990306857",
   "metadata": {},
   "outputs": [],
   "source": [
    "grid = [\n",
    "    [0,  0,  0,  0,  0],\n",
    "    [0, -10,  0, -10,  0],\n",
    "    [0,  0,  0,  0,  0],\n",
    "    [0,  0,  0, 10,  0],  \n",
    "    [0,  0,  0,  0,  0]\n",
    "]"
   ]
  },
  {
   "cell_type": "code",
   "execution_count": 75,
   "id": "7dbd6279-7fda-4665-a64a-49ed77c12bfe",
   "metadata": {},
   "outputs": [],
   "source": [
    "rows = len(grid)\n",
    "cols = len(grid[0])\n",
    "actions = {'HAUT': (-1, 0), 'BAS': (1, 0), 'GAUCHE': (0, -1), 'DROITE': (0, 1)}"
   ]
  },
  {
   "cell_type": "code",
   "execution_count": 77,
   "id": "7ec8cf20-942d-4efe-a4d2-2a562b67f1a0",
   "metadata": {},
   "outputs": [],
   "source": [
    "# Fonction pour vérifier si le déplacement est valide\n",
    "def is_valid_move(pos, move):\n",
    "    new_x = pos[0] + move[0]\n",
    "    new_y = pos[1] + move[1]\n",
    "    return 0 <= new_x < rows and 0 <= new_y < cols"
   ]
  },
  {
   "cell_type": "code",
   "execution_count": 79,
   "id": "ed9f24a5-4e9a-4e85-b3b3-3d12d02a4fb5",
   "metadata": {},
   "outputs": [],
   "source": [
    "def simulate():\n",
    "    attempts = 0 \n",
    "\n",
    "    while True: \n",
    "        attempts += 1\n",
    "        agent_position = [0, 0] \n",
    "        score = 0\n",
    "        steps = 0\n",
    "        max_steps = 1000\n",
    "\n",
    "        while steps < max_steps:\n",
    "            steps += 1\n",
    "            possible_moves = [move for move in actions.values() if is_valid_move(agent_position, move)]\n",
    "\n",
    "            if not possible_moves:\n",
    "                print(\"Aucun mouvement possible. Fin de la simulation.\")\n",
    "                break\n",
    "\n",
    "            # Choisir un mouvement aléatoire\n",
    "            move = random.choice(possible_moves)\n",
    "            new_x = agent_position[0] + move[0]\n",
    "            new_y = agent_position[1] + move[1]\n",
    "\n",
    "            # Mise à jour de la position\n",
    "            agent_position = [new_x, new_y]\n",
    "\n",
    "            # Mise à jour du score\n",
    "            score -= 1\n",
    "            cell_value = grid[new_x][new_y]\n",
    "\n",
    "            if cell_value == -10:\n",
    "                print(f\"Tentative {attempts}: L'agent est tombé dans un piège après {steps} étapes. Recommençons...\")\n",
    "                break  \n",
    "\n",
    "            elif cell_value == 10:\n",
    "                score += 10  \n",
    "                print(f\" L'agent a trouvé le trésor en {steps} étapes après {attempts} tentatives ! Score final : {score} \")\n",
    "                return  "
   ]
  },
  {
   "cell_type": "code",
   "execution_count": 81,
   "id": "c6ac84f1-08e6-4ef1-b8c0-f0601fd659cf",
   "metadata": {},
   "outputs": [
    {
     "name": "stdout",
     "output_type": "stream",
     "text": [
      "Tentative 1: L'agent est tombé dans un piège après 4 étapes. Recommençons...\n",
      "Tentative 2: L'agent est tombé dans un piège après 2 étapes. Recommençons...\n",
      "Tentative 3: L'agent est tombé dans un piège après 4 étapes. Recommençons...\n",
      "Tentative 4: L'agent est tombé dans un piège après 2 étapes. Recommençons...\n",
      "Tentative 5: L'agent est tombé dans un piège après 4 étapes. Recommençons...\n",
      "Tentative 6: L'agent est tombé dans un piège après 4 étapes. Recommençons...\n",
      "Tentative 7: L'agent est tombé dans un piège après 20 étapes. Recommençons...\n",
      "Tentative 8: L'agent est tombé dans un piège après 8 étapes. Recommençons...\n",
      "Tentative 9: L'agent est tombé dans un piège après 2 étapes. Recommençons...\n",
      "Tentative 10: L'agent est tombé dans un piège après 16 étapes. Recommençons...\n",
      "Tentative 11: L'agent est tombé dans un piège après 12 étapes. Recommençons...\n",
      "Tentative 12: L'agent est tombé dans un piège après 10 étapes. Recommençons...\n",
      "Tentative 13: L'agent est tombé dans un piège après 12 étapes. Recommençons...\n",
      "Tentative 14: L'agent est tombé dans un piège après 8 étapes. Recommençons...\n",
      "Tentative 15: L'agent est tombé dans un piège après 8 étapes. Recommençons...\n",
      "Tentative 16: L'agent est tombé dans un piège après 2 étapes. Recommençons...\n",
      "Tentative 17: L'agent est tombé dans un piège après 4 étapes. Recommençons...\n",
      " L'agent a trouvé le trésor en 10 étapes après 18 tentatives ! Score final : 0 \n"
     ]
    }
   ],
   "source": [
    "simulate()"
   ]
  },
  {
   "cell_type": "code",
   "execution_count": null,
   "id": "cdf55c6e-23ce-4f7f-a1f4-d2ec4102f14b",
   "metadata": {},
   "outputs": [],
   "source": []
  }
 ],
 "metadata": {
  "kernelspec": {
   "display_name": "Python 3 (ipykernel)",
   "language": "python",
   "name": "python3"
  },
  "language_info": {
   "codemirror_mode": {
    "name": "ipython",
    "version": 3
   },
   "file_extension": ".py",
   "mimetype": "text/x-python",
   "name": "python",
   "nbconvert_exporter": "python",
   "pygments_lexer": "ipython3",
   "version": "3.12.4"
  }
 },
 "nbformat": 4,
 "nbformat_minor": 5
}
